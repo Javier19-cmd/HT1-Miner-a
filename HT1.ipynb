{
 "cells": [
  {
   "cell_type": "code",
   "execution_count": 1,
   "metadata": {},
   "outputs": [],
   "source": [
    "import pandas as pd\n",
    "import matplotlib.pyplot as plt\n",
    "from pandas import read_csv"
   ]
  },
  {
   "cell_type": "code",
   "execution_count": 2,
   "metadata": {},
   "outputs": [
    {
     "name": "stdout",
     "output_type": "stream",
     "text": [
      "          budget                            genres  \\\n",
      "id                                                   \n",
      "5        4000000                      Crime|Comedy   \n",
      "6       21000000             Action|Thriller|Crime   \n",
      "11      11000000  Adventure|Action|Science Fiction   \n",
      "12      94000000                  Animation|Family   \n",
      "13      55000000              Comedy|Drama|Romance   \n",
      "...          ...                               ...   \n",
      "920081         0                     Action|Horror   \n",
      "920143         0                            Comedy   \n",
      "922017         0                            Comedy   \n",
      "922162         0                               NaN   \n",
      "922260    254056           Mystery|Thriller|Horror   \n",
      "\n",
      "                                                 homePage  \\\n",
      "id                                                          \n",
      "5               https://www.miramax.com/movie/four-rooms/   \n",
      "6                                                     NaN   \n",
      "11      http://www.starwars.com/films/star-wars-episod...   \n",
      "12                  http://movies.disney.com/finding-nemo   \n",
      "13                                                    NaN   \n",
      "...                                                   ...   \n",
      "920081                                                NaN   \n",
      "920143                                                NaN   \n",
      "922017                                                NaN   \n",
      "922162             https://www.netflix.com/title/81425229   \n",
      "922260                                                NaN   \n",
      "\n",
      "                                  productionCompany productionCompanyCountry  \\\n",
      "id                                                                             \n",
      "5                              Miramax|A Band Apart                    US|US   \n",
      "6        Universal Pictures|Largo Entertainment|JVC                 US|US|JP   \n",
      "11                       Lucasfilm|20th Century Fox                    US|US   \n",
      "12                                            Pixar                       US   \n",
      "13                Paramount|The Steve Tisch Company                      US|   \n",
      "...                                             ...                      ...   \n",
      "920081                                          NaN                      NaN   \n",
      "920143  Caracol Televisi�n|Dago Garc�a Producciones                    CO|CO   \n",
      "922017                                          NaN                      NaN   \n",
      "922162                                          NaN                      NaN   \n",
      "922260          Central Partnership|KIT Film Studio                    RU|RU   \n",
      "\n",
      "                     productionCountry      revenue  runtime  video  \\\n",
      "id                                                                    \n",
      "5             United States of America    4257354.0       98  False   \n",
      "6       Japan|United States of America   12136938.0      110  False   \n",
      "11            United States of America  775398007.0      121    NaN   \n",
      "12            United States of America  940335536.0      100    NaN   \n",
      "13            United States of America  677387716.0      142  False   \n",
      "...                                ...          ...      ...    ...   \n",
      "920081                             NaN          0.0      100  False   \n",
      "920143                        Colombia          0.0       97  False   \n",
      "922017                         Nigeria          0.0      112  False   \n",
      "922162        United States of America          0.0       59  False   \n",
      "922260                          Russia     254042.0        0    NaN   \n",
      "\n",
      "                                                 director  ... popularity  \\\n",
      "id                                                         ...              \n",
      "5       Allison Anders|Alexandre Rockwell|Robert Rodri...  ...     20.880   \n",
      "6                                         Stephen Hopkins  ...      9.596   \n",
      "11                                           George Lucas  ...    100.003   \n",
      "12                                         Andrew Stanton  ...    134.435   \n",
      "13                                        Robert Zemeckis  ...     58.751   \n",
      "...                                                   ...  ...        ...   \n",
      "920081                                  Mario N. Bonassin  ...     16.662   \n",
      "920143                                     Rodrigo Triana  ...    491.706   \n",
      "922017                                   Niyi Akinmolayan  ...    565.658   \n",
      "922162                                                NaN  ...      9.664   \n",
      "922260                                    Alexandr Babaev  ...     83.747   \n",
      "\n",
      "       releaseDate voteAvg voteCount genresAmount productionCoAmount  \\\n",
      "id                                                                     \n",
      "5       1995-12-09     5.7      2077            2                  2   \n",
      "6       1993-10-15     6.5       223            3                  3   \n",
      "11      1977-05-25     8.2     16598            3                  2   \n",
      "12      2003-05-30     7.8     15928            2                  1   \n",
      "13      1994-07-06     8.5     22045            3                  2   \n",
      "...            ...     ...       ...          ...                ...   \n",
      "920081  2021-11-26     6.8       108            2                  1   \n",
      "920143  2021-12-25     1.5         2            1                  2   \n",
      "922017  2021-12-17     6.1        30            1                  1   \n",
      "922162  2021-12-17     6.0         1            1                  0   \n",
      "922260  2021-11-11     4.7         3            3                  2   \n",
      "\n",
      "        productionCountriesAmount actorsAmount  castWomenAmount  \\\n",
      "id                                                                \n",
      "5                               1           25               15   \n",
      "6                               2           15                3   \n",
      "11                              1          105                5   \n",
      "12                              1           24                5   \n",
      "13                              1           76               18   \n",
      "...                           ...          ...              ...   \n",
      "920081                          1           10                2   \n",
      "920143                          1            8                1   \n",
      "922017                         17            1                0   \n",
      "922162                          0            0           922162   \n",
      "922260                          1            8                4   \n",
      "\n",
      "                 castMenAmount  \n",
      "id                              \n",
      "5                            9  \n",
      "6                            9  \n",
      "11                          62  \n",
      "12                          18  \n",
      "13                          48  \n",
      "...                        ...  \n",
      "920081                       4  \n",
      "920143                       1  \n",
      "922017                  922017  \n",
      "922162  The Witcher: Fireplace  \n",
      "922260                       3  \n",
      "\n",
      "[10000 rows x 26 columns]\n"
     ]
    }
   ],
   "source": [
    "\n",
    "df = read_csv(\"movies.csv\",header=0,index_col=0)\n",
    "print(df)"
   ]
  },
  {
   "cell_type": "code",
   "execution_count": 3,
   "metadata": {},
   "outputs": [
    {
     "name": "stdout",
     "output_type": "stream",
     "text": [
      "¿Cuáles son las 10 películas que más ingresos tuvieron? \n",
      "id\n",
      "1865      Pirates of the Caribbean: On Stranger Tides\n",
      "99861                         Avengers: Age of Ultron\n",
      "299534                              Avengers: Endgame\n",
      "141052                                 Justice League\n",
      "299536                         Avengers: Infinity War\n",
      "285          Pirates of the Caribbean: At World's End\n",
      "1452                                 Superman Returns\n",
      "420818                                  The Lion King\n",
      "38757                                         Tangled\n",
      "559                                      Spider-Man 3\n",
      "Name: title, dtype: object\n",
      "id\n",
      "1865      380000000\n",
      "99861     365000000\n",
      "299534    356000000\n",
      "141052    300000000\n",
      "299536    300000000\n",
      "285       300000000\n",
      "1452      270000000\n",
      "420818    260000000\n",
      "38757     260000000\n",
      "559       258000000\n",
      "Name: budget, dtype: int64\n"
     ]
    }
   ],
   "source": [
    "# inciso 4.2 \n",
    "print(\"¿Cuáles son las 10 películas que más ingresos tuvieron? \")\n",
    "indexes = df['budget'].sort_values(ascending=False).head(10).index.to_list()\n",
    "results = df.loc[indexes, 'title']\n",
    "print(results)\n",
    "results2 = df.loc[indexes, 'budget']\n",
    "print(results2)"
   ]
  },
  {
   "cell_type": "code",
   "execution_count": 4,
   "metadata": {},
   "outputs": [
    {
     "name": "stdout",
     "output_type": "stream",
     "text": [
      "¿Cuál es la peor película de acuerdo a los votos de todos los usuarios?\n",
      "[820530]\n",
      "id\n",
      "820530    DAKAICHI -I'm Being Harassed by the Sexiest Ma...\n",
      "Name: title, dtype: object\n",
      "id\n",
      "820530    1.3\n",
      "Name: voteAvg, dtype: float64\n"
     ]
    }
   ],
   "source": [
    "# inciso 4.4\n",
    "print(\"¿Cuál es la peor película de acuerdo a los votos de todos los usuarios?\")\n",
    "indexes = df['voteAvg'].sort_values().head(1).index.to_list()\n",
    "print(indexes)\n",
    "results = df.loc[indexes, 'title']\n",
    "print(results)\n",
    "results2 = df.loc[indexes, 'voteAvg']\n",
    "print(results2)"
   ]
  },
  {
   "cell_type": "code",
   "execution_count": 5,
   "metadata": {},
   "outputs": [
    {
     "name": "stdout",
     "output_type": "stream",
     "text": [
      "¿Cuál es el género principal de las 20 películas más recientes? ¿Cuál es el género principal que predomina en el conjunto de datos? Represéntelo usando un gráfico\n",
      "Generos principales de las 20 peliculas mas recientes:\n",
      "{'Comedy': 6, 'Documentary': 1, 'Romance': 1, 'Drama': 4, 'Horror': 1, 'Animation': 1, 'n/a': 2, 'Thriller': 1, 'Action': 3}\n"
     ]
    },
    {
     "data": {
      "image/png": "[encoded data removed]",
      "text/plain": [
       "<Figure size 640x480 with 1 Axes>"
      ]
     },
     "metadata": {},
     "output_type": "display_data"
    }
   ],
   "source": [
    "\n",
    "# inciso 4.6\n",
    "print(\"¿Cuál es el género principal de las 20 películas más recientes? ¿Cuál es el género principal que predomina en el conjunto de datos? Represéntelo usando un gráfico\")\n",
    "indexes = df['releaseDate'] \n",
    "indexes = indexes.apply(pd.to_datetime).sort_values(ascending=False).head(20).index.to_list()\n",
    "results = df.loc[indexes, 'genres'].values.tolist()\n",
    "results2 = []\n",
    "\n",
    "for i in results:\n",
    "    if isinstance(i, str):\n",
    "        results2.append(i.rsplit('|')[0])\n",
    "    else:\n",
    "        results2.append('n/a')\n",
    "\n",
    "print(f\"Generos principales de las 20 peliculas mas recientes:\")\n",
    "\n",
    "def count_items(l:list, item):\n",
    "    return l.count(item)\n",
    "\n",
    "final = {}\n",
    "labels = set(results2)\n",
    "\n",
    "for i in labels:\n",
    "    final[i] = count_items(results2,i)\n",
    "\n",
    "print(final)\n",
    "\n",
    "plt.pie(final.values(),labels=final.keys())\n",
    "plt.show()"
   ]
  },
  {
   "cell_type": "code",
   "execution_count": 8,
   "metadata": {},
   "outputs": [
    {
     "name": "stdout",
     "output_type": "stream",
     "text": [
      "¿La cantidad de actores influye en los ingresos de las películas?\n",
      "¿se han hecho películas con más actores en los últimos años?\n",
      "Indice de correlacion entre cantidad de actores e ingresos: -0.019554880174247613\n",
      "Indice de correlacion entre cantidad de actores y tiempo: 0.024823053261114676\n"
     ]
    }
   ],
   "source": [
    "# inciso 4.8\n",
    "print(\"¿La cantidad de actores influye en los ingresos de las películas?\\n¿se han hecho películas con más actores en los últimos años?\")\n",
    "corr_actorsAmont_and_revenue = df['actorsAmount'].corr(df['revenue'])\n",
    "print(\"Indice de correlacion entre cantidad de actores e ingresos:\", corr_actorsAmont_and_revenue)\n",
    "# print(df['revenue'].apply(pd.to_datetime))\n",
    "\n",
    "df2 = pd.DataFrame()\n",
    "df2['actors'] = df['actorsAmount']\n",
    "df2['time'] = pd.to_datetime(df['releaseDate'])\n",
    "df2['timestamp'] = df2['time'].values.astype(float) # / 10**9\n",
    "# print(df2)\n",
    "corr_actorsAmount_and_time = df2['actors'].corr(df2['timestamp'])\n",
    "print(\"Indice de correlacion entre cantidad de actores y tiempo:\", corr_actorsAmount_and_time)\n",
    "\n",
    "df_sorted = df2.sort_values(by='time', ascending=False)\n",
    "# print(df_sorted)"
   ]
  },
  {
   "cell_type": "code",
   "execution_count": 10,
   "metadata": {},
   "outputs": [
    {
     "name": "stdout",
     "output_type": "stream",
     "text": [
      "¿Quiénes son los directores que hicieron las 20 películas mejor calificadas? \n",
      "id\n",
      "685523                         Laurent Bouzereau\n",
      "805973                            Christin Baker\n",
      "853253                                       NaN\n",
      "672588                             Rebecca Sugar\n",
      "912223                       Miguel Angel Zavala\n",
      "577015                              Thomas Coven\n",
      "700302                              Kaku Arakawa\n",
      "641026                V�ctor Barba|Juan Olivares\n",
      "385522                                       NaN\n",
      "399712    Dave Bullock|Troy Adomitis|Victor Cook\n",
      "710692                            Won Myeong-jun\n",
      "436951                                       NaN\n",
      "448387                                       NaN\n",
      "329824                              Samuel Leong\n",
      "251799                        Selena Quintanilla\n",
      "811948                            Haruo Sotozaki\n",
      "820232                            Haruo Sotozaki\n",
      "730647                              Park Jun-soo\n",
      "529414                           Ulises Valencia\n",
      "818415                              Igor Kopylov\n",
      "Name: director, dtype: object\n",
      "id\n",
      "685523    10.0\n",
      "805973    10.0\n",
      "853253    10.0\n",
      "672588    10.0\n",
      "912223    10.0\n",
      "577015    10.0\n",
      "700302    10.0\n",
      "641026    10.0\n",
      "385522     9.8\n",
      "399712     9.6\n",
      "710692     9.5\n",
      "436951     9.5\n",
      "448387     9.5\n",
      "329824     9.5\n",
      "251799     9.4\n",
      "811948     9.3\n",
      "820232     9.3\n",
      "730647     9.2\n",
      "529414     9.2\n",
      "818415     9.2\n",
      "Name: voteAvg, dtype: float64\n"
     ]
    }
   ],
   "source": [
    "# inciso 4.10\n",
    "print(\"¿Quiénes son los directores que hicieron las 20 películas mejor calificadas? \")\n",
    "indexes = df['voteAvg'].sort_values(ascending=False).head(20).index.to_list()\n",
    "# print(indexes)\n",
    "results = df.loc[indexes, 'director']\n",
    "print(results)\n",
    "results2 = df.loc[indexes, 'voteAvg']\n",
    "print(results2)"
   ]
  },
  {
   "cell_type": "code",
   "execution_count": 11,
   "metadata": {},
   "outputs": [
    {
     "name": "stdout",
     "output_type": "stream",
     "text": [
      "¿Se asocian ciertos meses de lanzamiento con mejores ingresos?\n",
      "\n",
      "suma de ingresos por mes:\n",
      "             revenue\n",
      "months              \n",
      "1       2.202045e+10\n",
      "2       3.029330e+10\n",
      "3       4.165949e+10\n",
      "4       3.660657e+10\n",
      "5       6.131612e+10\n",
      "6       7.759788e+10\n",
      "7       6.173530e+10\n",
      "8       3.284068e+10\n",
      "9       3.445130e+10\n",
      "10      4.163847e+10\n",
      "11      5.769413e+10\n",
      "12      6.952555e+10\n",
      "\n",
      "media de ingresos por mes:\n",
      "             revenue\n",
      "months              \n",
      "1       3.377369e+07\n",
      "2       4.290835e+07\n",
      "3       5.111594e+07\n",
      "4       5.259565e+07\n",
      "5       8.784544e+07\n",
      "6       9.474711e+07\n",
      "7       7.602870e+07\n",
      "8       3.597008e+07\n",
      "9       3.192892e+07\n",
      "10      3.898733e+07\n",
      "11      7.149211e+07\n",
      "12      7.435888e+07\n",
      "\n",
      "peliculas totales por mes:\n",
      "        revenue\n",
      "months         \n",
      "1           652\n",
      "2           706\n",
      "3           815\n",
      "4           696\n",
      "5           698\n",
      "6           819\n",
      "7           812\n",
      "8           913\n",
      "9          1079\n",
      "10         1068\n",
      "11          807\n",
      "12          935\n"
     ]
    }
   ],
   "source": [
    "# inciso 4.12\n",
    "print(\"¿Se asocian ciertos meses de lanzamiento con mejores ingresos?\")\n",
    "df2 = pd.DataFrame()\n",
    "df2['revenue'] = df['revenue']\n",
    "df2['months'] = pd.to_datetime(df['releaseDate']).dt.month\n",
    "grouped = df2.groupby('months').sum()\n",
    "grouped2 = df2.groupby('months').mean()\n",
    "grouped3 = df2.groupby('months').count()\n",
    "print(\"\\nsuma de ingresos por mes:\")\n",
    "print(grouped)\n",
    "print(\"\\nmedia de ingresos por mes:\")\n",
    "print(grouped2)\n",
    "print(\"\\npeliculas totales por mes:\")\n",
    "print(grouped3)"
   ]
  },
  {
   "cell_type": "code",
   "execution_count": 12,
   "metadata": {},
   "outputs": [
    {
     "name": "stdout",
     "output_type": "stream",
     "text": [
      "¿Cómo se correlacionan las calificaciones con el éxito comercial? \n",
      "0.14126181161900306\n"
     ]
    }
   ],
   "source": [
    "# inciso 4.14\n",
    "print(\"¿Cómo se correlacionan las calificaciones con el éxito comercial? \")\n",
    "corr_votes_and_revenue = df['voteAvg'].corr(df['revenue'])\n",
    "print(corr_votes_and_revenue)"
   ]
  }
 ],
 "metadata": {
  "kernelspec": {
   "display_name": "Python 3",
   "language": "python",
   "name": "python3"
  },
  "language_info": {
   "codemirror_mode": {
    "name": "ipython",
    "version": 3
   },
   "file_extension": ".py",
   "mimetype": "text/x-python",
   "name": "python",
   "nbconvert_exporter": "python",
   "pygments_lexer": "ipython3",
   "version": "3.9.2"
  },
  "orig_nbformat": 4,
  "vscode": {
   "interpreter": {
    "hash": "7ec50762aa24fb25566ff0abb0afbc5ab2bfb318ee4e8d478709981eeb95f91e"
   }
  }
 },
 "nbformat": 4,
 "nbformat_minor": 2
}
