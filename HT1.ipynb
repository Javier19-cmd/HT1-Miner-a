{
 "cells": [
  {
   "cell_type": "code",
   "execution_count": null,
   "metadata": {},
   "outputs": [],
   "source": [
    "import pandas as pd\n",
    "import matplotlib.pyplot as plt\n",
    "from pandas import read_csv"
   ]
  },
  {
   "cell_type": "code",
   "execution_count": null,
   "metadata": {},
   "outputs": [],
   "source": [
    "\n",
    "df = read_csv(\"movies.csv\",header=0,index_col=0)\n",
    "print(df)"
   ]
  },
  {
   "cell_type": "code",
   "execution_count": null,
   "metadata": {},
   "outputs": [],
   "source": [
    "# inciso 4.2 \n",
    "print(\"¿Cuáles son las 10 películas que más ingresos tuvieron? \")\n",
    "indexes = df['budget'].sort_values(ascending=False).head(10).index.to_list()\n",
    "results = df.loc[indexes, 'title']\n",
    "print(results)\n",
    "results2 = df.loc[indexes, 'budget']\n",
    "print(results2)"
   ]
  },
  {
   "cell_type": "code",
   "execution_count": null,
   "metadata": {},
   "outputs": [],
   "source": [
    "# inciso 4.4\n",
    "print(\"¿Cuál es la peor película de acuerdo a los votos de todos los usuarios?\")\n",
    "indexes = df['voteAvg'].sort_values().head(1).index.to_list()\n",
    "print(indexes)\n",
    "results = df.loc[indexes, 'title']\n",
    "print(results)\n",
    "results2 = df.loc[indexes, 'voteAvg']\n",
    "print(results2)"
   ]
  },
  {
   "cell_type": "code",
   "execution_count": null,
   "metadata": {},
   "outputs": [],
   "source": [
    "\n",
    "# inciso 4.6\n",
    "print(\"¿Cuál es el género principal de las 20 películas más recientes? ¿Cuál es el género principal que predomina en el conjunto de datos? Represéntelo usando un gráfico\")\n",
    "indexes = df['releaseDate'] \n",
    "indexes = indexes.apply(pd.to_datetime).sort_values(ascending=False).head(20).index.to_list()\n",
    "results = df.loc[indexes, 'genres'].values.tolist()\n",
    "results2 = []\n",
    "\n",
    "for i in results:\n",
    "    if isinstance(i, str):\n",
    "        results2.append(i.rsplit('|')[0])\n",
    "    else:\n",
    "        results2.append('n/a')\n",
    "\n",
    "print(f\"Generos principales de las 20 peliculas mas recientes:\")\n",
    "\n",
    "def count_items(l:list, item):\n",
    "    return l.count(item)\n",
    "\n",
    "final = {}\n",
    "labels = set(results2)\n",
    "\n",
    "for i in labels:\n",
    "    final[i] = count_items(results2,i)\n",
    "\n",
    "print(final)\n",
    "\n",
    "plt.pie(final.values(),labels=final.keys())\n",
    "plt.show()"
   ]
  },
  {
   "cell_type": "code",
   "execution_count": null,
   "metadata": {},
   "outputs": [],
   "source": [
    "# inciso 4.8\n",
    "print(\"¿La cantidad de actores influye en los ingresos de las películas?\\n¿se han hecho películas con más actores en los últimos años?\")\n",
    "corr_actorsAmont_and_revenue = df['actorsAmount'].corr(df['revenue'])\n",
    "print(corr_actorsAmont_and_revenue)\n",
    "print(df['revenue'].apply(pd.to_datetime))\n",
    "\n",
    "df2 = pd.DataFrame()\n",
    "df2['actors'] = df['actorsAmount']\n",
    "df2['time'] = pd.to_datetime(df['releaseDate'])\n",
    "df2['timestamp'] = df2['time'].values.astype(float) # / 10**9\n",
    "print(df2)\n",
    "corr_actorsAmount_and_time = df2['actors'].corr(df2['timestamp'])\n",
    "print(corr_actorsAmount_and_time)\n",
    "\n",
    "df_sorted = df2.sort_values(by='time', ascending=False)\n",
    "print(df_sorted)"
   ]
  },
  {
   "cell_type": "code",
   "execution_count": null,
   "metadata": {},
   "outputs": [],
   "source": [
    "# inciso 4.10\n",
    "print(\"¿Quiénes son los directores que hicieron las 20 películas mejor calificadas? \")\n",
    "indexes = df['voteAvg'].sort_values(ascending=False).head(20).index.to_list()\n",
    "print(indexes)\n",
    "results = df.loc[indexes, 'director']\n",
    "print(results)\n",
    "results2 = df.loc[indexes, 'voteAvg']\n",
    "print(results2)"
   ]
  },
  {
   "cell_type": "code",
   "execution_count": null,
   "metadata": {},
   "outputs": [],
   "source": [
    "\n",
    "\n",
    "# inciso 4.12\n",
    "print(\"¿Se asocian ciertos meses de lanzamiento con mejores ingresos?\")\n",
    "df2 = pd.DataFrame()\n",
    "df2['revenue'] = df['revenue']\n",
    "df2['months'] = pd.to_datetime(df['releaseDate']).dt.month\n",
    "grouped = df2.groupby('months').sum()\n",
    "grouped2 = df2.groupby('months').mean()\n",
    "grouped3 = df2.groupby('months').count()\n",
    "print(\"\\nsuma de ingresos por mes:\")\n",
    "print(grouped)\n",
    "print(\"\\nmedia de ingresos por mes:\")\n",
    "print(grouped2)\n",
    "print(\"\\npeliculas totales por mes:\")\n",
    "print(grouped3)"
   ]
  },
  {
   "cell_type": "code",
   "execution_count": null,
   "metadata": {},
   "outputs": [],
   "source": [
    "# inciso 4.14\n",
    "print(\"¿Cómo se correlacionan las calificaciones con el éxito comercial? \")\n",
    "corr_votes_and_revenue = df['voteAvg'].corr(df['revenue'])\n",
    "print(corr_votes_and_revenue)"
   ]
  }
 ],
 "metadata": {
  "kernelspec": {
   "display_name": "Python 3",
   "language": "python",
   "name": "python3"
  },
  "language_info": {
   "name": "python",
   "version": "3.9.2"
  },
  "orig_nbformat": 4,
  "vscode": {
   "interpreter": {
    "hash": "7ec50762aa24fb25566ff0abb0afbc5ab2bfb318ee4e8d478709981eeb95f91e"
   }
  }
 },
 "nbformat": 4,
 "nbformat_minor": 2
}
